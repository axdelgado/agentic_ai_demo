{
 "cells": [
  {
   "cell_type": "markdown",
   "id": "811a7b96",
   "metadata": {},
   "source": [
    "# Installs and imports"
   ]
  },
  {
   "cell_type": "code",
   "execution_count": 1,
   "id": "a15f1f05",
   "metadata": {},
   "outputs": [],
   "source": [
    "# %pip install -U ipykernel\n",
    "# %pip install -U langchain\n",
    "# %pip install -qU langchain-ollama\n",
    "# %ipython kernel install --user --name='agentic_ai_demo'"
   ]
  },
  {
   "cell_type": "code",
   "execution_count": 1,
   "id": "463229b3",
   "metadata": {},
   "outputs": [],
   "source": [
    "#from langchain.chat_models import init_chat_model\n",
    "from langchain_ollama import ChatOllama\n",
    "from langchain_core.messages import AIMessage"
   ]
  },
  {
   "cell_type": "markdown",
   "id": "f1aced72",
   "metadata": {},
   "source": [
    "# Model setup"
   ]
  },
  {
   "cell_type": "code",
   "execution_count": 2,
   "id": "6b6b40a9",
   "metadata": {},
   "outputs": [],
   "source": [
    "llm = ChatOllama(\n",
    "    model = \"gemma3\",\n",
    "    temperature = 0.5\n",
    ")\n",
    "#"
   ]
  },
  {
   "cell_type": "code",
   "execution_count": 3,
   "id": "364b017c",
   "metadata": {},
   "outputs": [],
   "source": [
    "\n",
    "\n",
    "messages = [\n",
    "    (\n",
    "        \"system\",\n",
    "        \"You are a friendly chatbot.\",\n",
    "    ),\n",
    "    (\"human\", \"Isn't it nice to run during golden hour?\"),\n",
    "]\n",
    "ai_msg = llm.invoke(messages)\n"
   ]
  },
  {
   "cell_type": "code",
   "execution_count": 4,
   "id": "b04777ed",
   "metadata": {},
   "outputs": [
    {
     "name": "stdout",
     "output_type": "stream",
     "text": [
      "Absolutely! It really is! There’s just something magical about running during golden hour. The light is so soft and warm, and it feels incredibly peaceful. It’s a really special way to get some exercise and enjoy the beauty of the day. 😊 \n",
      "\n",
      "Have you ever run during golden hour? What’s your favorite thing about it?\n",
      "\n",
      "\n",
      "content='Absolutely! It really is! There’s just something magical about running during golden hour. The light is so soft and warm, and it feels incredibly peaceful. It’s a really special way to get some exercise and enjoy the beauty of the day. 😊 \\n\\nHave you ever run during golden hour? What’s your favorite thing about it?' additional_kwargs={} response_metadata={'model': 'gemma3', 'created_at': '2025-05-08T18:02:26.213014Z', 'done': True, 'done_reason': 'stop', 'total_duration': 4628645750, 'load_duration': 2416305125, 'prompt_eval_count': 31, 'prompt_eval_duration': 494714834, 'eval_count': 72, 'eval_duration': 1675571000, 'model_name': 'gemma3'} id='run--cee0a1e1-baa0-4670-bc64-19c9c98593c0-0' usage_metadata={'input_tokens': 31, 'output_tokens': 72, 'total_tokens': 103}\n"
     ]
    }
   ],
   "source": [
    "print(ai_msg.content)\n",
    "print('\\n')\n",
    "print(ai_msg)\n"
   ]
  },
  {
   "cell_type": "code",
   "execution_count": null,
   "id": "634c9ee2",
   "metadata": {},
   "outputs": [],
   "source": []
  }
 ],
 "metadata": {
  "kernelspec": {
   "display_name": "agentic_ai_demo",
   "language": "python",
   "name": "agentic_ai_demo"
  },
  "language_info": {
   "codemirror_mode": {
    "name": "ipython",
    "version": 3
   },
   "file_extension": ".py",
   "mimetype": "text/x-python",
   "name": "python",
   "nbconvert_exporter": "python",
   "pygments_lexer": "ipython3",
   "version": "3.12.1"
  }
 },
 "nbformat": 4,
 "nbformat_minor": 5
}
