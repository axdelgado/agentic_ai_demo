{
 "cells": [
  {
   "cell_type": "markdown",
   "id": "811a7b96",
   "metadata": {},
   "source": [
    "# Installs and imports"
   ]
  },
  {
   "cell_type": "code",
   "execution_count": 2,
   "id": "a15f1f05",
   "metadata": {},
   "outputs": [],
   "source": [
    "#%pip install -U ipykernel\n",
    "#%pip install -U langchain\n",
    "#%pip install -qU langchain-ollama\n"
   ]
  },
  {
   "cell_type": "code",
   "execution_count": 3,
   "id": "463229b3",
   "metadata": {},
   "outputs": [],
   "source": [
    "#from langchain.chat_models import init_chat_model\n",
    "from langchain_ollama import ChatOllama\n",
    "from langchain_core.messages import AIMessage"
   ]
  },
  {
   "cell_type": "markdown",
   "id": "f1aced72",
   "metadata": {},
   "source": [
    "# Model setup"
   ]
  },
  {
   "cell_type": "code",
   "execution_count": null,
   "id": "6b6b40a9",
   "metadata": {},
   "outputs": [],
   "source": [
    "llm = ChatOllama(\n",
    "    model = \"gemma3\",\n",
    "    temperature = 0.5\n",
    ")\n",
    "#"
   ]
  },
  {
   "cell_type": "code",
   "execution_count": 5,
   "id": "364b017c",
   "metadata": {},
   "outputs": [],
   "source": [
    "\n",
    "\n",
    "messages = [\n",
    "    (\n",
    "        \"system\",\n",
    "        \"You are a friendly chatbot.\",\n",
    "    ),\n",
    "    (\"human\", \"Isn't it nice to run during golden hour?\"),\n",
    "]\n",
    "ai_msg = llm.invoke(messages)\n"
   ]
  },
  {
   "cell_type": "code",
   "execution_count": null,
   "id": "b04777ed",
   "metadata": {},
   "outputs": [
    {
     "name": "stdout",
     "output_type": "stream",
     "text": [
      "Absolutely! It really is! There's just something so magical about running during golden hour. The light is so warm and beautiful, and it feels incredibly peaceful. \n",
      "\n",
      "Do you enjoy running during golden hour? What’s your favorite thing about it? 😊\n",
      "\n",
      "\n",
      "content=\"Absolutely! It really is! There's just something so magical about running during golden hour. The light is so warm and beautiful, and it feels incredibly peaceful. \\n\\nDo you enjoy running during golden hour? What’s your favorite thing about it? 😊\" additional_kwargs={} response_metadata={'model': 'gemma3', 'created_at': '2025-05-08T16:28:40.960467Z', 'done': True, 'done_reason': 'stop', 'total_duration': 3954751209, 'load_duration': 2161402709, 'prompt_eval_count': 31, 'prompt_eval_duration': 469558333, 'eval_count': 54, 'eval_duration': 1307324833, 'model_name': 'gemma3'} id='run--77d3b34f-e68a-4ffa-85ec-e980dc0d6b5d-0' usage_metadata={'input_tokens': 31, 'output_tokens': 54, 'total_tokens': 85}\n"
     ]
    }
   ],
   "source": [
    "print(ai_msg.content)\n",
    "print('\\n')\n",
    "print(ai_msg)\n"
   ]
  },
  {
   "cell_type": "code",
   "execution_count": null,
   "id": "634c9ee2",
   "metadata": {},
   "outputs": [],
   "source": []
  }
 ],
 "metadata": {
  "kernelspec": {
   "display_name": ".venv",
   "language": "python",
   "name": "python3"
  },
  "language_info": {
   "codemirror_mode": {
    "name": "ipython",
    "version": 3
   },
   "file_extension": ".py",
   "mimetype": "text/x-python",
   "name": "python",
   "nbconvert_exporter": "python",
   "pygments_lexer": "ipython3",
   "version": "3.12.1"
  }
 },
 "nbformat": 4,
 "nbformat_minor": 5
}
